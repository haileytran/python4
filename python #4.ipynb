{
 "cells": [
  {
   "cell_type": "markdown",
   "metadata": {},
   "source": [
    "# <font size=\"15\"> Python #4 </font>\n",
    "## Table of Contents:\n",
    "1. [Lists](#section1)  \n",
    "    1.1 [Syntax](#section1.1)    \n",
    "2. [Indexing](#section2)  \n",
    "    2.1 [Lists](#section2.1)  \n",
    "    2.2 [Strings](#section2.2)   \n",
    "3. [Modifying Lists](#section3)  \n",
    "   3.1 [Changing Lists using Indexing](#section3.1)  \n",
    "    3.2 [Changing Lists using Methods](#section3.2)  \n",
    "\n",
    "## Contact:\n",
    "[Hailey Tran](mailto:hailey.tran@berkeley.edu) \n",
    "\n",
    "After today you will know how to:\n",
    "1. Write and comprehend Python lists \n",
    "2. Output a single element from a list\n",
    "3. Modify lists through indexing and methods"
   ]
  },
  {
   "cell_type": "markdown",
   "metadata": {},
   "source": [
    "<a id='section1'></a>\n",
    "# Part 1: Lists\n",
    "A list is a collection of values in one place so we can perform tasks on the elements all at once. "
   ]
  },
  {
   "cell_type": "markdown",
   "metadata": {},
   "source": [
    "<a id='section1.1'></a>\n",
    "### 1.1 Syntax\n",
    "Lists contain values that we input in a list form.\n",
    "\n",
    "We can make a list of \"string\" values:"
   ]
  },
  {
   "cell_type": "code",
   "execution_count": null,
   "metadata": {},
   "outputs": [],
   "source": [
    "food_order = [\"burger\", \"fries\", \"soda\", \"onion rings\"]\n",
    "food_order"
   ]
  },
  {
   "cell_type": "markdown",
   "metadata": {},
   "source": [
    "We can also make a list of numbers:"
   ]
  },
  {
   "cell_type": "code",
   "execution_count": null,
   "metadata": {},
   "outputs": [],
   "source": [
    "small_numbers = [\"1\",\"2\",\"3\",\"4\",\"5\"]\n",
    "small_numbers"
   ]
  },
  {
   "cell_type": "markdown",
   "metadata": {},
   "source": [
    "**Exercise 1.1.1** Make a list in the cell below containing all the colors in the rainbow. Name it `rainbow_colors`:"
   ]
  },
  {
   "cell_type": "code",
   "execution_count": null,
   "metadata": {},
   "outputs": [],
   "source": []
  },
  {
   "cell_type": "markdown",
   "metadata": {},
   "source": [
    "**Exercise 1.1.2** Make a cell below and combine the lists `food_order` and `rainbow_colors` together.\n",
    "\n",
    "Hint: Do not manually do this. Use the names above and an arithmetic operation to do this exercise. Let the computer do the hard work for you."
   ]
  },
  {
   "cell_type": "code",
   "execution_count": null,
   "metadata": {},
   "outputs": [],
   "source": [
    "combo = \n",
    "combo"
   ]
  },
  {
   "cell_type": "markdown",
   "metadata": {},
   "source": [
    "**Exercise 1.1.3** What do you think will happen when the cell below is ran?"
   ]
  },
  {
   "cell_type": "markdown",
   "metadata": {},
   "source": [
    "Write your answer here before running the next cell: "
   ]
  },
  {
   "cell_type": "code",
   "execution_count": null,
   "metadata": {},
   "outputs": [],
   "source": [
    "mystery = small_numbers + [\"hi\", \"hello\", \"bye\"]"
   ]
  },
  {
   "cell_type": "markdown",
   "metadata": {},
   "source": [
    "<a id='section 2'></a>\n",
    "# Part 2: Single Elements of Lists ('indexing')\n",
    "Python provides an `[]` operator to get any character by index position. You pass the index position in the brackets, and it will return the character at that index."
   ]
  },
  {
   "cell_type": "markdown",
   "metadata": {},
   "source": [
    "<a id='section2.1'></a>\n",
    "### 2.1 List Indexing\n",
    "\n",
    "\n",
    "A lot of times in Python we import tables that have hundreds of values. Lets look at an example below:"
   ]
  },
  {
   "cell_type": "code",
   "execution_count": 30,
   "metadata": {},
   "outputs": [],
   "source": [
    "#run this cell to load the data\n",
    "random_list = []\n",
    "for i in range(1, 101):\n",
    "    random_list += [i]\n"
   ]
  },
  {
   "cell_type": "markdown",
   "metadata": {},
   "source": [
    "This creates a list of 100 values starting from 1 and ending at 100. Lets assume we want to find the 100th value. To do this, we use a term called indexing. \n",
    "\n",
    "- Indexing starts with `0` not `1`. This means that if we do `random_list [1]` it will give us the second element of the list and `random_list [0]` will give the first element of the list."
   ]
  },
  {
   "cell_type": "markdown",
   "metadata": {},
   "source": [
    "**Exercise 1.2.1** Find the 10th element in `random_list` :"
   ]
  },
  {
   "cell_type": "code",
   "execution_count": null,
   "metadata": {},
   "outputs": [],
   "source": []
  },
  {
   "cell_type": "markdown",
   "metadata": {},
   "source": [
    "**Exercise 1.2.2** How about the 100th element?"
   ]
  },
  {
   "cell_type": "code",
   "execution_count": null,
   "metadata": {},
   "outputs": [],
   "source": []
  },
  {
   "cell_type": "markdown",
   "metadata": {},
   "source": [
    "An index position can be a positive or negative value. Above are examples of using a positive index. Instead of counting from the beginning of the list, a negative index starts counting from the end of the list.\n",
    "\n",
    "- The last character has index -1 \n"
   ]
  },
  {
   "cell_type": "markdown",
   "metadata": {},
   "source": [
    "**Exercise 1.2.3** Write code that will output the number 96 from `random_list`."
   ]
  },
  {
   "cell_type": "code",
   "execution_count": null,
   "metadata": {},
   "outputs": [],
   "source": []
  },
  {
   "cell_type": "markdown",
   "metadata": {},
   "source": [
    "<a id='section2.2'></a>\n",
    "### 2.2 String Indexing\n",
    "\n",
    "Indexing can also be done with strings. In strings, spaces count as an index position."
   ]
  },
  {
   "cell_type": "code",
   "execution_count": null,
   "metadata": {},
   "outputs": [],
   "source": [
    "#run this cell\n",
    "season = \"summer time\"\n",
    "season"
   ]
  },
  {
   "cell_type": "markdown",
   "metadata": {},
   "source": [
    "**Exercise 2.2.1** Make a cell below and write code to output the letter 't' from season."
   ]
  },
  {
   "cell_type": "markdown",
   "metadata": {},
   "source": [
    "<a id='section 3'></a>\n",
    "# Part 3: Modifying Lists\n"
   ]
  },
  {
   "cell_type": "markdown",
   "metadata": {},
   "source": [
    "<a id='section3.1'></a>\n",
    "### 3.1 Changing Lists using Indexing\n",
    "Lists can be changed and modified. To change the value of a specific item in a list, refer to the index number. "
   ]
  },
  {
   "cell_type": "code",
   "execution_count": null,
   "metadata": {},
   "outputs": [],
   "source": [
    "#run this cell\n",
    "my_clothe = [\"2 shirts\", \"1 shoe\", \"3 pants\" ]\n",
    "my_clothe"
   ]
  },
  {
   "cell_type": "markdown",
   "metadata": {},
   "source": [
    "If I just bought another pair of shoes and wanted to change the number of shoes I have in my list, I would be able to! Pass in the index number and assign it to your wanted value. Look at the example below."
   ]
  },
  {
   "cell_type": "code",
   "execution_count": null,
   "metadata": {},
   "outputs": [],
   "source": []
  },
  {
   "cell_type": "markdown",
   "metadata": {},
   "source": [
    "**Exercise 3.1** Identify which word does not belong in the list and change it into something that does. Call your list afterward to check your work."
   ]
  },
  {
   "cell_type": "code",
   "execution_count": null,
   "metadata": {},
   "outputs": [],
   "source": [
    "fruits = [\"apple\", \"strawberry\", \"bike\", \"banana\"]"
   ]
  },
  {
   "cell_type": "code",
   "execution_count": null,
   "metadata": {},
   "outputs": [],
   "source": []
  },
  {
   "cell_type": "markdown",
   "metadata": {},
   "source": [
    "<a id='section3.2'></a>\n",
    "### 3.2 Changing Lists using Methods\n",
    "\n",
    "Python has a set of built-in methods that you can use on lists.\n",
    "Here are some of them:\n",
    "\n",
    "|Method Name|Value|\n",
    "|-|-|\n",
    "|`append(string)`|Adds an element at the end of the list|\n",
    "|`clear()`|Removes all the elements from the list|\n",
    "|`count(string)`|\tReturns the number of elements with the specified value|\n",
    "|`pop(index)`|Removes the element at the specified position|\n",
    "|`index(string)`|Returns the index of the first element with the specified value|\n",
    "\n",
    "To use them, your code should be in this form: `list name`.`method(argument)`"
   ]
  },
  {
   "cell_type": "code",
   "execution_count": 7,
   "metadata": {},
   "outputs": [],
   "source": [
    "#run this cell\n",
    "dog_breeds = [\"bulldog\", \"golden retriever\", \"chihuahua\", \"bulldog\", \"shiba inu\"]"
   ]
  },
  {
   "cell_type": "code",
   "execution_count": null,
   "metadata": {},
   "outputs": [],
   "source": [
    "#example form\n",
    "dog_breeds.append(\"labrador\")\n",
    "dog_breeds"
   ]
  },
  {
   "cell_type": "markdown",
   "metadata": {},
   "source": [
    "**Use the `dog_breeds` list for the following exercises.**"
   ]
  },
  {
   "cell_type": "markdown",
   "metadata": {},
   "source": [
    "**Exercise 3.2.1** Print out the number of times that \"bulldog\" appears in the list."
   ]
  },
  {
   "cell_type": "code",
   "execution_count": null,
   "metadata": {},
   "outputs": [],
   "source": []
  },
  {
   "cell_type": "markdown",
   "metadata": {},
   "source": [
    "**Exercise 3.2.2** Find the index number of \"chihuahua\" in the list. "
   ]
  },
  {
   "cell_type": "code",
   "execution_count": null,
   "metadata": {},
   "outputs": [],
   "source": []
  },
  {
   "cell_type": "markdown",
   "metadata": {},
   "source": [
    "**Exercise 3.2.3** Remove one of the \"bulldog\"s from the list so that only one remains. Output the list when done to check your answer."
   ]
  },
  {
   "cell_type": "code",
   "execution_count": null,
   "metadata": {},
   "outputs": [],
   "source": []
  },
  {
   "cell_type": "markdown",
   "metadata": {},
   "source": [
    "**Exercise 3.2.4** Add another dog breed to the end of the list. Output the list when done to check your answer."
   ]
  },
  {
   "cell_type": "code",
   "execution_count": null,
   "metadata": {},
   "outputs": [],
   "source": []
  },
  {
   "cell_type": "markdown",
   "metadata": {},
   "source": [
    "**Exercise 3.2.5** Remove everything from the list, so that it is empty. Output the list when done to check your answer. "
   ]
  },
  {
   "cell_type": "code",
   "execution_count": null,
   "metadata": {},
   "outputs": [],
   "source": []
  }
 ],
 "metadata": {
  "kernelspec": {
   "display_name": "Python 3",
   "language": "python",
   "name": "python3"
  },
  "language_info": {
   "codemirror_mode": {
    "name": "ipython",
    "version": 3
   },
   "file_extension": ".py",
   "mimetype": "text/x-python",
   "name": "python",
   "nbconvert_exporter": "python",
   "pygments_lexer": "ipython3",
   "version": "3.6.9"
  }
 },
 "nbformat": 4,
 "nbformat_minor": 4
}
